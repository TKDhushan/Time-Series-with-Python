{
 "cells": [
  {
   "cell_type": "markdown",
   "metadata": {},
   "source": [
    "- 在TS_1中，我们得到了如下平稳的收益率时间序列(In TS_1, we get the following stable yield time series)"
   ]
  },
  {
   "cell_type": "code",
   "execution_count": 1,
   "metadata": {},
   "outputs": [
    {
     "name": "stdout",
     "output_type": "stream",
     "text": [
      "auth success \n"
     ]
    }
   ],
   "source": [
    "from jqdatasdk import *\n",
    "import arch\n",
    "import numpy as np\n",
    "import matplotlib.pyplot as plt\n",
    "\n",
    "auth('13241809053','809053')\n",
    "is_auth = is_auth()\n",
    "\n",
    "from jqdatasdk import *\n",
    "import matplotlib.pyplot as plt\n",
    "auth('13241809053','809053')\n",
    "is_auth = is_auth()\n",
    "\n",
    "price = get_price(\"000001.XSHG\", start_date=\"2015-1-1\", end_date=\"2019-12-31\", frequency='daily')['close']\n",
    "returns = price.pct_change().dropna()\n",
    "\n",
    "train_price = get_price(\"000001.XSHG\", start_date=\"2015-1-1\", end_date=\"2019-12-24\", frequency='daily')['close']\n",
    "train_returns = train_price.pct_change().dropna()\n",
    "\n",
    "test_price = get_price(\"000001.XSHG\", start_date=\"2019-12-24\", end_date=\"2019-12-31\", frequency='daily')['close']\n",
    "test_returns = test_price.pct_change().dropna()"
   ]
  },
  {
   "cell_type": "markdown",
   "metadata": {},
   "source": [
    "## 1. 画自相关系数（ACF）和偏自相关系数（PACF）的图  (Plot autocorrelation coefficient (ACF) and partial autocorrelation coefficient (PACF))"
   ]
  },
  {
   "cell_type": "code",
   "execution_count": 2,
   "metadata": {
    "scrolled": true
   },
   "outputs": [
    {
     "data": {
      "text/plain": [
       "Text(0.5,1,'PACF')"
      ]
     },
     "execution_count": 2,
     "metadata": {},
     "output_type": "execute_result"
    },
    {
     "data": {
      "image/png": "[encoded data removed]",
      "text/plain": [
       "<Figure size 432x288 with 2 Axes>"
      ]
     },
     "metadata": {
      "needs_background": "light"
     },
     "output_type": "display_data"
    }
   ],
   "source": [
    "import statsmodels.tsa.api as smt\n",
    "\n",
    "size = (1,2)\n",
    "acf_ax = plt.subplot2grid(size, (0, 0))\n",
    "pacf_ax = plt.subplot2grid(size, (0, 1))\n",
    "    \n",
    "smt.graphics.plot_acf(train_returns, lags=20, ax=acf_ax, alpha=0.5)\n",
    "acf_ax.set_title(\"ACF\")  \n",
    "smt.graphics.plot_pacf(train_returns, lags=20, ax=pacf_ax, alpha=0.5)\n",
    "pacf_ax.set_title(\"PACF\")"
   ]
  },
  {
   "cell_type": "markdown",
   "metadata": {},
   "source": [
    "## 2. 模型定阶，参数估计，显著性检验，模型优化\n",
    "## Model ordering, parameter estimation, significance test, model optimization"
   ]
  },
  {
   "cell_type": "markdown",
   "metadata": {},
   "source": [
    "### 尝试ARMA(3,2)\n",
    "- 参数通过显著性检验(Parameter passed significance test)\n",
    "- 还可以尝试MA(1),AR(1),AR(2),ARMA(1,1)等多种模型，比较AIC和BIC的值(You can also try MA (1), AR (1), AR (2), ARMA (1,1) and other models to compare the values of AIC and BIC)"
   ]
  },
  {
   "cell_type": "code",
   "execution_count": 3,
   "metadata": {},
   "outputs": [
    {
     "name": "stderr",
     "output_type": "stream",
     "text": [
      "D:\\anaconda\\lib\\site-packages\\statsmodels\\tsa\\base\\tsa_model.py:219: ValueWarning: A date index has been provided, but it has no associated frequency information and so will be ignored when e.g. forecasting.\n",
      "  ' ignored when e.g. forecasting.', ValueWarning)\n"
     ]
    },
    {
     "name": "stdout",
     "output_type": "stream",
     "text": [
      "                              ARMA Model Results                              \n",
      "==============================================================================\n",
      "Dep. Variable:                  close   No. Observations:                 1213\n",
      "Model:                     ARMA(3, 2)   Log Likelihood                3398.997\n",
      "Method:                       css-mle   S.D. of innovations              0.015\n",
      "Date:                Thu, 30 Jan 2020   AIC                          -6783.994\n",
      "Time:                        02:54:47   BIC                          -6748.288\n",
      "Sample:                             0   HQIC                         -6770.551\n",
      "                                                                              \n",
      "===============================================================================\n",
      "                  coef    std err          z      P>|z|      [0.025      0.975]\n",
      "-------------------------------------------------------------------------------\n",
      "const        2.032e-05      0.000      0.046      0.964      -0.001       0.001\n",
      "ar.L1.close     0.2525      0.038      6.622      0.000       0.178       0.327\n",
      "ar.L2.close    -0.9704      0.018    -54.561      0.000      -1.005      -0.936\n",
      "ar.L3.close     0.0931      0.030      3.113      0.002       0.034       0.152\n",
      "ma.L1.close    -0.2069      0.026     -7.881      0.000      -0.258      -0.155\n",
      "ma.L2.close     0.9278      0.026     36.238      0.000       0.878       0.978\n",
      "                                    Roots                                    \n",
      "=============================================================================\n",
      "                  Real          Imaginary           Modulus         Frequency\n",
      "-----------------------------------------------------------------------------\n",
      "AR.1            0.0812           -1.0199j            1.0231           -0.2374\n",
      "AR.2            0.0812           +1.0199j            1.0231            0.2374\n",
      "AR.3           10.2608           -0.0000j           10.2608           -0.0000\n",
      "MA.1            0.1115           -1.0322j            1.0382           -0.2329\n",
      "MA.2            0.1115           +1.0322j            1.0382            0.2329\n",
      "-----------------------------------------------------------------------------\n"
     ]
    }
   ],
   "source": [
    "import statsmodels.api as sm\n",
    "order = (3,2)\n",
    "train_ar_result = sm.tsa.ARMA(train_returns,order).fit()\n",
    "print(train_ar_result.summary())"
   ]
  },
  {
   "cell_type": "markdown",
   "metadata": {},
   "source": [
    "- 对残差进行DW自相关检验，确认残差为纯随机序列(Perform a DW autocorrelation test on the residuals to confirm that the residuals are purely random sequences)\n",
    "- 残差图显示异方差性(Residual plot showing heteroscedasticity)"
   ]
  },
  {
   "cell_type": "code",
   "execution_count": 4,
   "metadata": {},
   "outputs": [
    {
     "name": "stdout",
     "output_type": "stream",
     "text": [
      "1.9100244383084863\n"
     ]
    },
    {
     "data": {
      "text/plain": [
       "<matplotlib.axes._subplots.AxesSubplot at 0x17f04f604e0>"
      ]
     },
     "execution_count": 4,
     "metadata": {},
     "output_type": "execute_result"
    },
    {
     "data": {
      "image/png": "[encoded data removed]",
      "text/plain": [
       "<Figure size 432x288 with 1 Axes>"
      ]
     },
     "metadata": {
      "needs_background": "light"
     },
     "output_type": "display_data"
    }
   ],
   "source": [
    "import statsmodels.api as sm\n",
    "print(sm.stats.durbin_watson(train_returns))\n",
    "train_ar_result.resid.plot()"
   ]
  },
  {
   "cell_type": "markdown",
   "metadata": {},
   "source": [
    "### AR自动定阶(AR automatic ranking)\n",
    "- 15阶，太大了(Order 15 is too big)"
   ]
  },
  {
   "cell_type": "code",
   "execution_count": 7,
   "metadata": {},
   "outputs": [
    {
     "name": "stdout",
     "output_type": "stream",
     "text": [
      "模型参数parameter：  <statsmodels.tsa.ar_model.ARResultsWrapper object at 0x0000017F0569B9B0>\n",
      "最佳滞后阶数best order：  15\n"
     ]
    }
   ],
   "source": [
    "parameter = smt.AR(train_returns.values).fit(maxlag=30, ic='aic', trend='nc')\n",
    "best_order = smt.AR(train_returns.values).select_order(maxlag=30, ic='aic', trend='nc')\n",
    "print(\"模型参数parameter： \", parameter)\n",
    "print(\"最佳滞后阶数best order： \",best_order)"
   ]
  },
  {
   "cell_type": "markdown",
   "metadata": {},
   "source": [
    "### 利用AIC自动定阶，改成BIC也可以(Using AIC automatic ordering, you can also change to BIC)\n",
    "- 结论是ARMA(5,5)，并不一定合适。因为可能它的参数无法通过检验，只能作为定阶参考(The conclusion is that ARMA (5,5) is not necessarily appropriate. Because its parameters may not pass the test, it can only be used as a reference for ordering)"
   ]
  },
  {
   "cell_type": "code",
   "execution_count": 6,
   "metadata": {},
   "outputs": [
    {
     "name": "stderr",
     "output_type": "stream",
     "text": [
      "D:\\anaconda\\lib\\site-packages\\scipy\\signal\\signaltools.py:1341: FutureWarning: Using a non-tuple sequence for multidimensional indexing is deprecated; use `arr[tuple(seq)]` instead of `arr[seq]`. In the future this will be interpreted as an array index, `arr[np.array(seq)]`, which will result either in an error or a different result.\n",
      "  out_full[ind] += zi\n",
      "D:\\anaconda\\lib\\site-packages\\scipy\\signal\\signaltools.py:1344: FutureWarning: Using a non-tuple sequence for multidimensional indexing is deprecated; use `arr[tuple(seq)]` instead of `arr[seq]`. In the future this will be interpreted as an array index, `arr[np.array(seq)]`, which will result either in an error or a different result.\n",
      "  out = out_full[ind]\n",
      "D:\\anaconda\\lib\\site-packages\\scipy\\signal\\signaltools.py:1350: FutureWarning: Using a non-tuple sequence for multidimensional indexing is deprecated; use `arr[tuple(seq)]` instead of `arr[seq]`. In the future this will be interpreted as an array index, `arr[np.array(seq)]`, which will result either in an error or a different result.\n",
      "  zf = out_full[ind]\n",
      "D:\\anaconda\\lib\\site-packages\\statsmodels\\tsa\\tsatools.py:668: RuntimeWarning: overflow encountered in exp\n",
      "  newparams = ((1-np.exp(-params))/(1+np.exp(-params))).copy()\n",
      "D:\\anaconda\\lib\\site-packages\\statsmodels\\tsa\\tsatools.py:668: RuntimeWarning: invalid value encountered in true_divide\n",
      "  newparams = ((1-np.exp(-params))/(1+np.exp(-params))).copy()\n",
      "D:\\anaconda\\lib\\site-packages\\statsmodels\\tsa\\tsatools.py:669: RuntimeWarning: overflow encountered in exp\n",
      "  tmp = ((1-np.exp(-params))/(1+np.exp(-params))).copy()\n",
      "D:\\anaconda\\lib\\site-packages\\statsmodels\\tsa\\tsatools.py:669: RuntimeWarning: invalid value encountered in true_divide\n",
      "  tmp = ((1-np.exp(-params))/(1+np.exp(-params))).copy()\n"
     ]
    },
    {
     "name": "stdout",
     "output_type": "stream",
     "text": [
      "AIC (4, 5)\n"
     ]
    }
   ],
   "source": [
    "train_results = smt.arma_order_select_ic(train_returns.values, ic=['aic'], trend= 'nc', max_ar= 5, max_ma= 5)\n",
    "print( 'AIC', train_results.aic_min_order)"
   ]
  },
  {
   "cell_type": "markdown",
   "metadata": {},
   "source": [
    "#### 残差图显示集群效应（残差时大时小），估计存在异方差性，见TS_3 (Residual plots show cluster effects (large when small and small when residual), and heteroscedasticity is estimated, see TS_3)"
   ]
  },
  {
   "cell_type": "code",
   "execution_count": null,
   "metadata": {},
   "outputs": [],
   "source": []
  }
 ],
 "metadata": {
  "kernelspec": {
   "display_name": "Python 3",
   "language": "python",
   "name": "python3"
  },
  "language_info": {
   "codemirror_mode": {
    "name": "ipython",
    "version": 3
   },
   "file_extension": ".py",
   "mimetype": "text/x-python",
   "name": "python",
   "nbconvert_exporter": "python",
   "pygments_lexer": "ipython3",
   "version": "3.7.0"
  }
 },
 "nbformat": 4,
 "nbformat_minor": 2
}
