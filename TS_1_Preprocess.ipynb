{
 "cells": [
  {
   "cell_type": "markdown",
   "metadata": {},
   "source": [
    "# 时间序列的预处理（Preprocessing of time series）"
   ]
  },
  {
   "cell_type": "markdown",
   "metadata": {},
   "source": [
    "## 1.导入数据(Import Data)\n",
    "- 这里我使用的是聚宽的数据库(I use Jukuan database, URL is)网址https://www.joinquant.com/help/api/help?name=JQData\n",
    "- 为方便后续预测，将数据分开，训练集train_returns用于拟合模型，测试集test_returns用于评估模型拟合的优劣(For analsis later on, the data is divided into train_returns set and test_returns set)\n",
    "- 测试集只能是很短的几天，因为garch无法预测长期(The test_returns set is short, because GARCH can only predict a few days.)"
   ]
  },
  {
   "cell_type": "code",
   "execution_count": 1,
   "metadata": {},
   "outputs": [
    {
     "name": "stdout",
     "output_type": "stream",
     "text": [
      "auth success \n"
     ]
    }
   ],
   "source": [
    "from jqdatasdk import *\n",
    "auth('13241809053','809053')\n",
    "is_auth = is_auth()"
   ]
  },
  {
   "cell_type": "code",
   "execution_count": 3,
   "metadata": {
    "scrolled": true
   },
   "outputs": [
    {
     "data": {
      "text/plain": [
       "<matplotlib.axes._subplots.AxesSubplot at 0x187c2612b38>"
      ]
     },
     "execution_count": 3,
     "metadata": {},
     "output_type": "execute_result"
    }
   ],
   "source": [
    "# 导入上证指数从2015年到2019年的价格，并利用收盘价计算日收益率\n",
    "# Import the price of Shanghai Stock Index from 2015 to 2019, \n",
    "# Use the closing price to calculate the daily rate of return\n",
    "from jqdatasdk import *\n",
    "import arch\n",
    "import numpy as np\n",
    "import matplotlib.pyplot as plt\n",
    "\n",
    "auth('13241809053','809053')\n",
    "is_auth = is_auth()\n",
    "\n",
    "from jqdatasdk import *\n",
    "import matplotlib.pyplot as plt\n",
    "auth('13241809053','809053')\n",
    "is_auth = is_auth()\n",
    "\n",
    "price = get_price(\"000001.XSHG\", start_date=\"2015-1-1\", end_date=\"2019-12-31\", frequency='daily')['close']\n",
    "returns = price.pct_change().dropna()\n",
    "\n",
    "train_price = get_price(\"000001.XSHG\", start_date=\"2015-1-1\", end_date=\"2019-12-24\", frequency='daily')['close']\n",
    "train_returns = train_price.pct_change().dropna()\n",
    "\n",
    "test_price = get_price(\"000001.XSHG\", start_date=\"2019-12-24\", end_date=\"2019-12-31\", frequency='daily')['close']\n",
    "test_returns = test_price.pct_change().dropna()\n",
    "\n",
    "train_returns.plot()"
   ]
  },
  {
   "cell_type": "markdown",
   "metadata": {},
   "source": [
    "## 2. 平稳性检验：ADF单位根检验(Stationary test: ADF unit root test)\n",
    "- 不存在单位根，说明是平稳序列（No unit root, indicating that it is a stationary sequence）\n",
    "- H0：序列非平稳（H0: non-stationary sequence）"
   ]
  },
  {
   "cell_type": "code",
   "execution_count": 4,
   "metadata": {
    "scrolled": true
   },
   "outputs": [
    {
     "name": "stdout",
     "output_type": "stream",
     "text": [
      "returns_ADF:     Augmented Dickey-Fuller Results   \n",
      "=====================================\n",
      "Test Statistic                 -7.066\n",
      "P-value                         0.000\n",
      "Lags                               23\n",
      "-------------------------------------\n",
      "\n",
      "Trend: Constant\n",
      "Critical Values: -3.44 (1%), -2.86 (5%), -2.57 (10%)\n",
      "Null Hypothesis: The process contains a unit root.\n",
      "Alternative Hypothesis: The process is weakly stationary.\n"
     ]
    }
   ],
   "source": [
    "from arch.unitroot import ADF\n",
    "print(\"returns_ADF: \", ADF(train_returns))"
   ]
  },
  {
   "cell_type": "markdown",
   "metadata": {},
   "source": [
    "- ADF检验结果，股票收盘价非平稳，收益率平稳（绝大多数都是这种情况）"
   ]
  },
  {
   "cell_type": "markdown",
   "metadata": {},
   "source": [
    "## 白噪音检验（随机性检验）：LB检验\n",
    "## (White noise test (randomness test): LB test)"
   ]
  },
  {
   "cell_type": "code",
   "execution_count": 5,
   "metadata": {},
   "outputs": [
    {
     "name": "stdout",
     "output_type": "stream",
     "text": [
      "returns:  (array([23.33893119, 39.94053823]), array([6.90556655e-04, 7.35613241e-05]))\n"
     ]
    }
   ],
   "source": [
    "from statsmodels.stats.diagnostic import acorr_ljungbox\n",
    "import numpy as np\n",
    "print(\"returns: \",acorr_ljungbox(train_returns, lags=[6, 12]))"
   ]
  },
  {
   "cell_type": "markdown",
   "metadata": {},
   "source": [
    "- 第一个 array 是 LB 统计量的数值，第二个 array 是 p 值。当 p 值小于显著性水平时认为时序不是白噪声。(The first array is the value of the LB statistic, and the second array is the p-value. When the p-value is less than the significance level, the timing is not considered to be white noise.)\n",
    "- 测试结果可知，returns不是白噪声，具有分析价值(The test results show that returns are not white noise and have analytical value.)"
   ]
  },
  {
   "cell_type": "markdown",
   "metadata": {},
   "source": [
    "- 由以上分析可知，股票收益率是非随机的平稳时间序列，适用于AR,MA,ARMA模型，见TS_2.(From the above analysis, it can be known that the stock return rate is a non-random stationary time series, which is suitable for AR, MA, ARMA models, see TS_2)"
   ]
  },
  {
   "cell_type": "code",
   "execution_count": null,
   "metadata": {},
   "outputs": [],
   "source": []
  }
 ],
 "metadata": {
  "kernelspec": {
   "display_name": "Python 3",
   "language": "python",
   "name": "python3"
  },
  "language_info": {
   "codemirror_mode": {
    "name": "ipython",
    "version": 3
   },
   "file_extension": ".py",
   "mimetype": "text/x-python",
   "name": "python",
   "nbconvert_exporter": "python",
   "pygments_lexer": "ipython3",
   "version": "3.7.0"
  }
 },
 "nbformat": 4,
 "nbformat_minor": 2
}
